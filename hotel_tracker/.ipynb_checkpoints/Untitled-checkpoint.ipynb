{
 "cells": [
  {
   "cell_type": "code",
   "execution_count": 34,
   "metadata": {},
   "outputs": [
    {
     "name": "stdout",
     "output_type": "stream",
     "text": [
      "country {'name': 'Liechtenstein'}\n",
      "{'direction': 'E', 'name': 'Austria'}\n",
      "{'direction': 'W', 'name': 'Switzerland'}\n",
      "2008\n",
      "country {'name': 'Singapore'}\n",
      "{'direction': 'N', 'name': 'Malaysia'}\n",
      "2011\n",
      "country {'name': 'Panama'}\n",
      "{'direction': 'W', 'name': 'Costa Rica'}\n",
      "{'direction': 'E', 'name': 'Colombia'}\n",
      "2011\n"
     ]
    }
   ],
   "source": [
    "import xml.etree.ElementTree as ET\n",
    "tree = ET.parse('sample.xml')\n",
    "root = tree.getroot()\n",
    "\n",
    "root.tag\n",
    "\n",
    "for child in root:\n",
    "    print child.tag, child.attrib\n",
    "    for neighbor in child.iter('neighbor'):\n",
    "        print neighbor.attrib\n",
    "    for year in child.iter('year'):\n",
    "        print year.text"
   ]
  },
  {
   "cell_type": "code",
   "execution_count": null,
   "metadata": {
    "collapsed": true
   },
   "outputs": [],
   "source": [
    "Folder\n",
    "\tname: 2017\n",
    "\tPlacemark\n",
    "    \tname: Hyatt Regency Lake Tahoe Resort, Spa and Casino\n",
    "        description: 2017-01-15; 1 Night\n",
    "        styleUrl: #icon-1899-0288D1\n",
    "        Point\n",
    "          coordinates: -119.94302,39.24069,0"
   ]
  },
  {
   "cell_type": "code",
   "execution_count": 15,
   "metadata": {},
   "outputs": [],
   "source": [
    "import xml.etree.ElementTree as ET\n",
    "import pandas as pd\n",
    "\n",
    "tree = ET.parse('hotel-data.xml')\n",
    "root = tree.getroot()\n",
    "\n",
    "columns = [\"Year\",\"Hotel\",\"Date\",\"Comment\",\"Lon\",\"Lat\"]\n",
    "df = pd.DataFrame(columns=columns)\n",
    "\n",
    "i = 0\n",
    "\n",
    "for child in root[0]:\n",
    "    if child.tag == \"Folder\":\n",
    "        year = child[0].text\n",
    "        for placemark in child.iter('Placemark'):\n",
    "            for name in placemark.iter('name'):\n",
    "                hotel_name = name.text.encode('utf8')\n",
    "            for description in placemark.iter('description'):\n",
    "                hotel_description = description.text.encode('utf8')\n",
    "                hotel_description = hotel_description.split(';')\n",
    "                if len(hotel_description) == 0:\n",
    "                    date = ''\n",
    "                    comment = ''\n",
    "                if len(hotel_description) == 1:\n",
    "                    date = hotel_description[0]\n",
    "                    comment = ''\n",
    "                if len(hotel_description) == 2:\n",
    "                    date = hotel_description[0]\n",
    "                    comment = hotel_description[1]\n",
    "            for coordinates in placemark.iter('coordinates'):\n",
    "                hotel_coordinates = coordinates.text.encode('utf8')\n",
    "                hotel_coordinates = hotel_coordinates.encode('utf8').replace('\\n', '')\n",
    "                hotel_coordinates = hotel_coordinates.encode('utf8').replace(' ', '')\n",
    "                hotel_coordinates = hotel_coordinates.encode('utf8').split(',')\n",
    "                \n",
    "            new_row = [year,hotel_name,date,comment,hotel_coordinates[1],hotel_coordinates[0]]\n",
    "            df.loc[i] = new_row\n",
    "            i += 1    \n",
    "            \n",
    "#for index, row in df.iterrows():\n",
    "#    print row['Hotel']\n",
    "\n",
    "df.to_csv('hotels.csv')\n",
    "                \n",
    "\n",
    "        \n",
    "        \n",
    "        \n"
   ]
  },
  {
   "cell_type": "code",
   "execution_count": null,
   "metadata": {
    "collapsed": true
   },
   "outputs": [],
   "source": []
  },
  {
   "cell_type": "code",
   "execution_count": null,
   "metadata": {
    "collapsed": true
   },
   "outputs": [],
   "source": []
  },
  {
   "cell_type": "code",
   "execution_count": null,
   "metadata": {
    "collapsed": true
   },
   "outputs": [],
   "source": []
  }
 ],
 "metadata": {
  "kernelspec": {
   "display_name": "Python 2",
   "language": "python",
   "name": "python2"
  },
  "language_info": {
   "codemirror_mode": {
    "name": "ipython",
    "version": 2
   },
   "file_extension": ".py",
   "mimetype": "text/x-python",
   "name": "python",
   "nbconvert_exporter": "python",
   "pygments_lexer": "ipython2",
   "version": "2.7.13"
  }
 },
 "nbformat": 4,
 "nbformat_minor": 2
}
